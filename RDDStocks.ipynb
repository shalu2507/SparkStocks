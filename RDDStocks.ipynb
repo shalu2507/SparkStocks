{
 "cells": [
  {
   "cell_type": "markdown",
   "id": "660d0b98",
   "metadata": {},
   "source": [
    "\n",
    "### This is notebook shows how we can use spark RDDs to manipulate, filter out and operate on datasets that contain a lot of information, in a user friendly manner. I have pulled the data of 5 Stock tickers: Amazon, Meta, PepsiCo,Nvidia and Tesla from 2013 to 2021 and stored it in a text file. The operations that have been performed are described at each step. The text file does not contain headers but the attributes of this dataset are Stock,Date,Open,High,Low,Close,Volume."
   ]
  },
  {
   "cell_type": "markdown",
   "id": "07d35a24",
   "metadata": {},
   "source": [
    "### -> Initializing spark and reading data"
   ]
  },
  {
   "cell_type": "code",
   "execution_count": 1,
   "id": "4d63ab6f",
   "metadata": {},
   "outputs": [
    {
     "name": "stdout",
     "output_type": "stream",
     "text": [
      "22/11/06 23:25:48 WARN Utils: Your hostname, Pramits-MacBook-Pro-2.local resolves to a loopback address: 127.0.0.1; using 10.0.0.72 instead (on interface en0)\n",
      "22/11/06 23:25:48 WARN Utils: Set SPARK_LOCAL_IP if you need to bind to another address\n"
     ]
    },
    {
     "name": "stderr",
     "output_type": "stream",
     "text": [
      "Setting default log level to \"WARN\".\n",
      "To adjust logging level use sc.setLogLevel(newLevel). For SparkR, use setLogLevel(newLevel).\n"
     ]
    },
    {
     "name": "stdout",
     "output_type": "stream",
     "text": [
      "22/11/06 23:25:49 WARN NativeCodeLoader: Unable to load native-hadoop library for your platform... using builtin-java classes where applicable\n"
     ]
    }
   ],
   "source": [
    "from pyspark import SparkContext\n",
    "\n",
    "sc = SparkContext(\"local[4]\", \"Stocks\")"
   ]
  },
  {
   "cell_type": "code",
   "execution_count": 2,
   "id": "3d5863a4",
   "metadata": {},
   "outputs": [
    {
     "data": {
      "text/plain": [
       "Stocks.txt MapPartitionsRDD[1] at textFile at NativeMethodAccessorImpl.java:0"
      ]
     },
     "execution_count": 2,
     "metadata": {},
     "output_type": "execute_result"
    }
   ],
   "source": [
    "stocksFile = sc.textFile(\"Stocks.txt\")\n",
    "stocksFile"
   ]
  },
  {
   "cell_type": "code",
   "execution_count": 3,
   "id": "f3e43e4f",
   "metadata": {},
   "outputs": [
    {
     "name": "stderr",
     "output_type": "stream",
     "text": [
      "                                                                                \r"
     ]
    },
    {
     "data": {
      "text/plain": [
       "['AMZN,2013-01-02,12.87,12.9,12.66,12.8,65420000',\n",
       " 'AMZN,2013-01-03,12.92,13.04,12.82,12.86,55018000',\n",
       " 'AMZN,2013-01-04,12.96,12.99,12.83,12.88,37484000',\n",
       " 'AMZN,2013-01-07,13.42,13.49,13.13,13.15,98200000']"
      ]
     },
     "execution_count": 3,
     "metadata": {},
     "output_type": "execute_result"
    }
   ],
   "source": [
    "stocksFile.take(4)"
   ]
  },
  {
   "cell_type": "markdown",
   "id": "bf1245e4",
   "metadata": {},
   "source": [
    "Tokenizing each line"
   ]
  },
  {
   "cell_type": "code",
   "execution_count": 4,
   "id": "78bdf924",
   "metadata": {},
   "outputs": [
    {
     "data": {
      "text/plain": [
       "[['AMZN', '2013-01-02', '12.87', '12.9', '12.66', '12.8', '65420000'],\n",
       " ['AMZN', '2013-01-03', '12.92', '13.04', '12.82', '12.86', '55018000'],\n",
       " ['AMZN', '2013-01-04', '12.96', '12.99', '12.83', '12.88', '37484000'],\n",
       " ['AMZN', '2013-01-07', '13.42', '13.49', '13.13', '13.15', '98200000'],\n",
       " ['AMZN', '2013-01-08', '13.32', '13.45', '13.18', '13.35', '60214000']]"
      ]
     },
     "execution_count": 4,
     "metadata": {},
     "output_type": "execute_result"
    }
   ],
   "source": [
    "Tok = stocksFile.map(lambda n: n.split(','))\n",
    "Tok.take(5)"
   ]
  },
  {
   "cell_type": "markdown",
   "id": "b8c56967",
   "metadata": {},
   "source": [
    "Converting to the right data types\n"
   ]
  },
  {
   "cell_type": "code",
   "execution_count": 5,
   "id": "3390434f",
   "metadata": {
    "scrolled": true
   },
   "outputs": [
    {
     "data": {
      "text/plain": [
       "[['AMZN', '2013-01-02', 12.87, 12.9, 12.66, 12.8, 65420000],\n",
       " ['AMZN', '2013-01-03', 12.92, 13.04, 12.82, 12.86, 55018000],\n",
       " ['AMZN', '2013-01-04', 12.96, 12.99, 12.83, 12.88, 37484000],\n",
       " ['AMZN', '2013-01-07', 13.42, 13.49, 13.13, 13.15, 98200000],\n",
       " ['AMZN', '2013-01-08', 13.32, 13.45, 13.18, 13.35, 60214000]]"
      ]
     },
     "execution_count": 5,
     "metadata": {},
     "output_type": "execute_result"
    }
   ],
   "source": [
    "Tok_Conv = Tok.map(lambda n:[n[0], n[1], float(n[2]), float(n[3]), float(n[4]), float(n[5]), int(n[6])])\n",
    "Tok_Conv.take(5)"
   ]
  },
  {
   "cell_type": "markdown",
   "id": "d3b3c5ec",
   "metadata": {},
   "source": [
    "### -> Exploring the data\n",
    "Checking total Entries"
   ]
  },
  {
   "cell_type": "code",
   "execution_count": 6,
   "id": "f1421ba5",
   "metadata": {},
   "outputs": [
    {
     "data": {
      "text/plain": [
       "11325"
      ]
     },
     "execution_count": 6,
     "metadata": {},
     "output_type": "execute_result"
    }
   ],
   "source": [
    "TotalCount = stocksFile.count()\n",
    "TotalCount"
   ]
  },
  {
   "cell_type": "markdown",
   "id": "bcc6d0fb",
   "metadata": {},
   "source": [
    "Entries per stock"
   ]
  },
  {
   "cell_type": "code",
   "execution_count": 7,
   "id": "2b7fe005",
   "metadata": {},
   "outputs": [
    {
     "data": {
      "text/plain": [
       "defaultdict(int,\n",
       "            {'AMZN': 2265,\n",
       "             'META': 2265,\n",
       "             'NVDA': 2265,\n",
       "             'PEP': 2265,\n",
       "             'TSLA': 2265})"
      ]
     },
     "execution_count": 7,
     "metadata": {},
     "output_type": "execute_result"
    }
   ],
   "source": [
    "EntriesPerStock = Tok.countByKey()\n",
    "EntriesPerStock                                    "
   ]
  },
  {
   "cell_type": "markdown",
   "id": "70ec915c",
   "metadata": {},
   "source": [
    "Mapping every stock entry to its volume"
   ]
  },
  {
   "cell_type": "code",
   "execution_count": 8,
   "id": "c9c2bf26",
   "metadata": {},
   "outputs": [
    {
     "data": {
      "text/plain": [
       "[('AMZN', 65420000), ('AMZN', 55018000)]"
      ]
     },
     "execution_count": 8,
     "metadata": {},
     "output_type": "execute_result"
    }
   ],
   "source": [
    "RDD_Vol = Tok_Conv.map(lambda n: (n[0], n[6]))\n",
    "RDD_Vol.take(2)"
   ]
  },
  {
   "cell_type": "markdown",
   "id": "b47b997e",
   "metadata": {},
   "source": [
    "Checking the net volume per stock"
   ]
  },
  {
   "cell_type": "code",
   "execution_count": 9,
   "id": "b4d444e2",
   "metadata": {},
   "outputs": [
    {
     "name": "stderr",
     "output_type": "stream",
     "text": [
      "                                                                                \r"
     ]
    },
    {
     "data": {
      "text/plain": [
       "[('PEP', 10546399700),\n",
       " ('AMZN', 182903438000),\n",
       " ('META', 65984997400),\n",
       " ('NVDA', 98691508000),\n",
       " ('TSLA', 260349513600)]"
      ]
     },
     "execution_count": 9,
     "metadata": {},
     "output_type": "execute_result"
    }
   ],
   "source": [
    "Vol_Per_Stock = RDD_Vol.reduceByKey(lambda n,m : n+m)\n",
    "Vol_Per_Stock.collect()"
   ]
  },
  {
   "cell_type": "markdown",
   "id": "61af4ee7",
   "metadata": {},
   "source": [
    "Sorting based on max volume\n"
   ]
  },
  {
   "cell_type": "code",
   "execution_count": 11,
   "id": "502be78b",
   "metadata": {},
   "outputs": [
    {
     "name": "stdout",
     "output_type": "stream",
     "text": [
      "[('TSLA', 260349513600), ('AMZN', 182903438000), ('NVDA', 98691508000), ('META', 65984997400), ('PEP', 10546399700)]\n"
     ]
    }
   ],
   "source": [
    "Sorted_By_Vol = Vol_Per_Stock.sortBy(lambda n: n[1], ascending = False)\n",
    "Sorted_Vol = Sorted_By_Vol.collect()\n",
    "print(Sorted_Vol)"
   ]
  },
  {
   "cell_type": "code",
   "execution_count": 12,
   "id": "9d283738",
   "metadata": {},
   "outputs": [
    {
     "data": {
      "text/plain": [
       "<BarContainer object of 5 artists>"
      ]
     },
     "execution_count": 12,
     "metadata": {},
     "output_type": "execute_result"
    },
    {
     "data": {
      "image/png": "[encoded data removed]",
      "text/plain": [
       "<Figure size 432x288 with 1 Axes>"
      ]
     },
     "metadata": {
      "needs_background": "light"
     },
     "output_type": "display_data"
    }
   ],
   "source": [
    "import matplotlib.pyplot as plt\n",
    "TickerList = list()\n",
    "VolList = list()\n",
    "for Ticker,Volume in Sorted_Vol:\n",
    "    TickerList.append(Ticker)\n",
    "    VolList.append(Volume)\n",
    "plt.bar(TickerList,VolList)"
   ]
  },
  {
   "cell_type": "markdown",
   "id": "a74cacd5",
   "metadata": {},
   "source": [
    "Creating a new RDD with the highest and lowest values for each stock every day, and the respective dates"
   ]
  },
  {
   "cell_type": "code",
   "execution_count": 14,
   "id": "40bb085c",
   "metadata": {},
   "outputs": [
    {
     "data": {
      "text/plain": [
       "[('AMZN', [(12.9, '2013-01-02'), (12.66, '2013-01-02')]),\n",
       " ('AMZN', [(13.04, '2013-01-03'), (12.82, '2013-01-03')]),\n",
       " ('AMZN', [(12.99, '2013-01-04'), (12.83, '2013-01-04')]),\n",
       " ('AMZN', [(13.49, '2013-01-07'), (13.13, '2013-01-07')]),\n",
       " ('AMZN', [(13.45, '2013-01-08'), (13.18, '2013-01-08')])]"
      ]
     },
     "execution_count": 14,
     "metadata": {},
     "output_type": "execute_result"
    }
   ],
   "source": [
    "High_Low = Tok_Conv.map(lambda n: (n[0], [(n[3],n[1]),(n[4],n[1])]))\n",
    "High_Low.take(5)"
   ]
  },
  {
   "cell_type": "markdown",
   "id": "d3891394",
   "metadata": {},
   "source": [
    "Checking the dates for the best and the worst performance"
   ]
  },
  {
   "cell_type": "code",
   "execution_count": 16,
   "id": "260bb6e9",
   "metadata": {},
   "outputs": [
    {
     "data": {
      "text/plain": [
       "[('AMZN', ((188.65, '2021-07-13'), (12.29, '2013-05-01'))),\n",
       " ('META', ((384.33, '2021-09-01'), (22.67, '2013-06-06'))),\n",
       " ('NVDA', ((346.19, '2021-11-22'), (2.75, '2013-01-15'))),\n",
       " ('PEP', ((170.09, '2021-12-16'), (51.82, '2013-01-02'))),\n",
       " ('TSLA', ((414.5, '2021-11-04'), (2.14, '2013-01-11')))]"
      ]
     },
     "execution_count": 16,
     "metadata": {},
     "output_type": "execute_result"
    }
   ],
   "source": [
    "Dates_High_Low = High_Low.reduceByKey(lambda n,m : (max(n[0],m[0]), min(n[1],m[1])))\n",
    "sorted(Dates_High_Low.collect())"
   ]
  },
  {
   "cell_type": "markdown",
   "id": "9ec9f877",
   "metadata": {},
   "source": [
    "Modifying every entry to show the (ticker, year) and the volume\n",
    "\n"
   ]
  },
  {
   "cell_type": "code",
   "execution_count": 17,
   "id": "e70a2216",
   "metadata": {},
   "outputs": [
    {
     "data": {
      "text/plain": [
       "[(('AMZN', '2013'), 65420000),\n",
       " (('AMZN', '2013'), 55018000),\n",
       " (('AMZN', '2013'), 37484000),\n",
       " (('AMZN', '2013'), 98200000),\n",
       " (('AMZN', '2013'), 60214000)]"
      ]
     },
     "execution_count": 17,
     "metadata": {},
     "output_type": "execute_result"
    }
   ],
   "source": [
    "Tick_Yr_Vol = Tok_Conv.map(lambda n: ((n[0],n[1].split(\"-\")[0]), int(n[6])))\n",
    "Tick_Yr_Vol.take(5)"
   ]
  },
  {
   "cell_type": "markdown",
   "id": "0d518a6d",
   "metadata": {},
   "source": [
    "Showing the volume per year for every stock in alphabetical order"
   ]
  },
  {
   "cell_type": "code",
   "execution_count": 18,
   "id": "9fb92a2f",
   "metadata": {},
   "outputs": [
    {
     "data": {
      "text/plain": [
       "[(('AMZN', '2013'), 14958114000),\n",
       " (('AMZN', '2014'), 20581334000),\n",
       " (('AMZN', '2015'), 19142040000),\n",
       " (('AMZN', '2016'), 20775126000),\n",
       " (('AMZN', '2017'), 17654108000),\n",
       " (('AMZN', '2018'), 28357952000),\n",
       " (('AMZN', '2019'), 19493002000),\n",
       " (('AMZN', '2020'), 24950814000),\n",
       " (('AMZN', '2021'), 16990948000),\n",
       " (('META', '2013'), 15143182600),\n",
       " (('META', '2014'), 11977699100),\n",
       " (('META', '2015'), 6793637600),\n",
       " (('META', '2016'), 6419717900),\n",
       " (('META', '2017'), 4214278100),\n",
       " (('META', '2018'), 6942307800),\n",
       " (('META', '2019'), 4083979700),\n",
       " (('META', '2020'), 5678912800),\n",
       " (('META', '2021'), 4731281800),\n",
       " (('NVDA', '2013'), 8914737600),\n",
       " (('NVDA', '2014'), 7155693600),\n",
       " (('NVDA', '2015'), 7818756400),\n",
       " (('NVDA', '2016'), 11159860400),\n",
       " (('NVDA', '2017'), 17215246800),\n",
       " (('NVDA', '2018'), 13756960800),\n",
       " (('NVDA', '2019'), 11501271600),\n",
       " (('NVDA', '2020'), 12165638000),\n",
       " (('NVDA', '2021'), 9003342800),\n",
       " (('PEP', '2013'), 1265822500),\n",
       " (('PEP', '2014'), 1205936600),\n",
       " (('PEP', '2015'), 1193118000),\n",
       " (('PEP', '2016'), 1135998500),\n",
       " (('PEP', '2017'), 915568900),\n",
       " (('PEP', '2018'), 1266892700),\n",
       " (('PEP', '2019'), 1098493000),\n",
       " (('PEP', '2020'), 1277394100),\n",
       " (('PEP', '2021'), 1187175400),\n",
       " (('TSLA', '2013'), 31781188500),\n",
       " (('TSLA', '2014'), 26134819500),\n",
       " (('TSLA', '2015'), 16323267000),\n",
       " (('TSLA', '2016'), 17435425500),\n",
       " (('TSLA', '2017'), 23850471000),\n",
       " (('TSLA', '2018'), 32424582000),\n",
       " (('TSLA', '2019'), 34620726000),\n",
       " (('TSLA', '2020'), 57158737200),\n",
       " (('TSLA', '2021'), 20620296900)]"
      ]
     },
     "execution_count": 18,
     "metadata": {},
     "output_type": "execute_result"
    }
   ],
   "source": [
    "Vol_Per_Year = Tick_Yr_Vol.reduceByKey(lambda n,m : n+m)\n",
    "sorted(Vol_Per_Year.collect())"
   ]
  },
  {
   "cell_type": "markdown",
   "id": "8ce9ca98",
   "metadata": {},
   "source": [
    "### Plotting Amazon and Tesla Volume over the years"
   ]
  },
  {
   "cell_type": "code",
   "execution_count": 19,
   "id": "10ddb924",
   "metadata": {},
   "outputs": [
    {
     "data": {
      "image/png": "[encoded data removed]",
      "text/plain": [
       "<Figure size 1008x504 with 2 Axes>"
      ]
     },
     "metadata": {
      "needs_background": "light"
     },
     "output_type": "display_data"
    }
   ],
   "source": [
    "YearlistAMZN,YearlistTSLA = list(),list()\n",
    "VolListAMZN,VolListTSLA = list(),list()\n",
    "for (Ticker,Year),Volume in sorted(Vol_Per_Year.collect()):\n",
    "    if Ticker == 'AMZN':\n",
    "        YearlistAMZN.append(Year)\n",
    "        VolListAMZN.append(Volume)\n",
    "    if Ticker == 'TSLA':\n",
    "        YearlistTSLA.append(Year)\n",
    "        VolListTSLA.append(Volume)\n",
    "plt.figure(figsize =(14,7))\n",
    "plt.subplot(1, 2, 1)\n",
    "plt.bar(YearlistAMZN,VolListAMZN)\n",
    "plt.title('AMZN stocks volume over the years')\n",
    "\n",
    "plt.subplot(1, 2, 2)\n",
    "plt.bar(YearlistTSLA,VolListTSLA)\n",
    "plt.title('TSLA stocks volume over the years')\n",
    "\n",
    "plt.show()"
   ]
  },
  {
   "cell_type": "markdown",
   "id": "49ca625f",
   "metadata": {},
   "source": [
    "### Best and worst performance per year, shown with the exact date for every stock"
   ]
  },
  {
   "cell_type": "code",
   "execution_count": 20,
   "id": "e8fcf8ae",
   "metadata": {},
   "outputs": [
    {
     "data": {
      "text/plain": [
       "[(('AMZN', '2013'), ((20.28, '2013-12-27'), (12.29, '2013-05-01'))),\n",
       " (('AMZN', '2014'), ((20.4, '2014-01-22'), (14.2, '2014-10-24'))),\n",
       " (('AMZN', '2015'), ((34.82, '2015-12-29'), (14.26, '2015-01-16'))),\n",
       " (('AMZN', '2016'), ((42.36, '2016-10-06'), (23.7, '2016-02-09'))),\n",
       " (('AMZN', '2017'), ((60.67, '2017-11-27'), (37.38, '2017-01-03'))),\n",
       " (('AMZN', '2018'), ((102.53, '2018-09-04'), (58.53, '2018-01-02'))),\n",
       " (('AMZN', '2019'), ((101.79, '2019-07-11'), (73.05, '2019-01-02'))),\n",
       " (('AMZN', '2020'), ((177.61, '2020-09-02'), (81.3, '2020-03-16'))),\n",
       " (('AMZN', '2021'), ((188.65, '2021-07-13'), (144.05, '2021-03-05'))),\n",
       " (('META', '2013'), ((58.58, '2013-12-24'), (22.67, '2013-06-06'))),\n",
       " (('META', '2014'), ((82.17, '2014-12-23'), (51.85, '2014-01-27'))),\n",
       " (('META', '2015'), ((110.65, '2015-11-05'), (72.0, '2015-08-24'))),\n",
       " (('META', '2016'), ((133.5, '2016-10-25'), (89.37, '2016-01-20'))),\n",
       " (('META', '2017'), ((184.25, '2017-11-28'), (115.51, '2017-01-03'))),\n",
       " (('META', '2018'), ((218.62, '2018-07-25'), (123.02, '2018-12-24'))),\n",
       " (('META', '2019'), ((208.93, '2019-12-27'), (128.56, '2019-01-02'))),\n",
       " (('META', '2020'), ((304.67, '2020-08-26'), (137.1, '2020-03-18'))),\n",
       " (('META', '2021'), ((384.33, '2021-09-01'), (244.61, '2021-01-14'))),\n",
       " (('NVDA', '2013'), ((3.83, '2013-11-15'), (2.75, '2013-01-15'))),\n",
       " (('NVDA', '2014'), ((5.11, '2014-12-08'), (3.62, '2014-01-13'))),\n",
       " (('NVDA', '2015'), ((8.29, '2015-12-30'), (4.55, '2015-02-02'))),\n",
       " (('NVDA', '2016'), ((29.57, '2016-12-28'), (6.04, '2016-02-12'))),\n",
       " (('NVDA', '2017'), ((54.09, '2017-11-10'), (23.5, '2017-03-06'))),\n",
       " (('NVDA', '2018'), ((72.6, '2018-10-02'), (30.89, '2018-12-26'))),\n",
       " (('NVDA', '2019'), ((60.26, '2019-12-23'), (31.7, '2019-01-03'))),\n",
       " (('NVDA', '2020'), ((147.0, '2020-09-02'), (45.05, '2020-03-18'))),\n",
       " (('NVDA', '2021'), ((346.19, '2021-11-22'), (115.49, '2021-03-08'))),\n",
       " (('PEP', '2013'), ((66.88, '2013-11-06'), (51.82, '2013-01-02'))),\n",
       " (('PEP', '2014'), ((79.89, '2014-11-28'), (59.79, '2014-02-19'))),\n",
       " (('PEP', '2015'), ((84.42, '2015-10-23'), (61.94, '2015-08-24'))),\n",
       " (('PEP', '2016'), ((92.52, '2016-07-14'), (76.64, '2016-01-21'))),\n",
       " (('PEP', '2017'), ((104.86, '2017-12-29'), (85.5, '2017-01-17'))),\n",
       " (('PEP', '2018'), ((108.76, '2018-11-30'), (84.06, '2018-05-09'))),\n",
       " (('PEP', '2019'), ((129.05, '2019-10-04'), (95.9, '2019-01-15'))),\n",
       " (('PEP', '2020'), ((141.66, '2020-12-29'), (94.47, '2020-03-20'))),\n",
       " (('PEP', '2021'), ((170.09, '2021-12-16'), (122.42, '2021-02-26'))),\n",
       " (('TSLA', '2013'), ((12.97, '2013-09-30'), (2.14, '2013-01-11'))),\n",
       " (('TSLA', '2014'), ((19.43, '2014-09-04'), (9.11, '2014-01-14'))),\n",
       " (('TSLA', '2015'), ((19.11, '2015-07-20'), (12.09, '2015-03-27'))),\n",
       " (('TSLA', '2016'), ((17.96, '2016-04-07'), (9.4, '2016-02-09'))),\n",
       " (('TSLA', '2017'), ((25.97, '2017-09-18'), (14.06, '2017-01-03'))),\n",
       " (('TSLA', '2018'), ((25.83, '2018-08-07'), (16.31, '2018-04-02'))),\n",
       " (('TSLA', '2019'), ((29.02, '2019-12-27'), (11.8, '2019-06-03'))),\n",
       " (('TSLA', '2020'), ((239.57, '2020-12-31'), (23.37, '2020-03-18'))),\n",
       " (('TSLA', '2021'), ((414.5, '2021-11-04'), (179.83, '2021-03-05')))]"
      ]
     },
     "execution_count": 20,
     "metadata": {},
     "output_type": "execute_result"
    }
   ],
   "source": [
    "sorted(Tok_Conv.map(lambda n: ((n[0], n[1][:4]), ((n[3], n[1]), (n[4], n[1])))).reduceByKey(lambda n, m: (max(n[0], m[0]), min(n[1], m[1]))).collect())"
   ]
  },
  {
   "cell_type": "markdown",
   "id": "a9efca95",
   "metadata": {},
   "source": [
    "### Comparitive analysis between Tesla and Amazon \n",
    "Filtering for Tesla and getting the results in a new RDD with the Date, Open and close information, and adding the percentage change every day"
   ]
  },
  {
   "cell_type": "code",
   "execution_count": 21,
   "id": "39fa2dc5",
   "metadata": {},
   "outputs": [
    {
     "data": {
      "text/plain": [
       "[('2013-01-02', ['TSLA', 2.36, 2.33, -1.27]),\n",
       " ('2013-01-03', ['TSLA', 2.32, 2.35, 1.29]),\n",
       " ('2013-01-04', ['TSLA', 2.29, 2.32, 1.31]),\n",
       " ('2013-01-07', ['TSLA', 2.29, 2.32, 1.31])]"
      ]
     },
     "execution_count": 21,
     "metadata": {},
     "output_type": "execute_result"
    }
   ],
   "source": [
    "RDD_TSLA = Tok_Conv.filter(lambda n : n[0] == \"TSLA\")\n",
    "RDD_TSLA = RDD_TSLA.map(lambda n : (n[1],[n[0],n[2],n[5], round((n[5]-n[2])/n[2]*100,2)]))\n",
    "RDD_TSLA.take(4)"
   ]
  },
  {
   "cell_type": "markdown",
   "id": "15da33f5",
   "metadata": {},
   "source": [
    "Repeating the previous step for Amazon stocks"
   ]
  },
  {
   "cell_type": "code",
   "execution_count": 22,
   "id": "f4c38e26",
   "metadata": {},
   "outputs": [
    {
     "data": {
      "text/plain": [
       "[('2013-01-02', ['AMZN', 12.87, 12.8, -0.54]),\n",
       " ('2013-01-03', ['AMZN', 12.92, 12.86, -0.46]),\n",
       " ('2013-01-04', ['AMZN', 12.96, 12.88, -0.62]),\n",
       " ('2013-01-07', ['AMZN', 13.42, 13.15, -2.01])]"
      ]
     },
     "execution_count": 22,
     "metadata": {},
     "output_type": "execute_result"
    }
   ],
   "source": [
    "RDD_AMZN = Tok_Conv.filter(lambda n : n[0] == \"AMZN\")\n",
    "RDD_AMZN = RDD_AMZN.map(lambda n : (n[1],[n[0],n[2],n[5], round((n[5]-n[2])/n[2]*100,2)]))\n",
    "RDD_AMZN.take(4)"
   ]
  },
  {
   "cell_type": "markdown",
   "id": "9483d4fe",
   "metadata": {},
   "source": [
    "Joining the results from the previous 2 steps\n"
   ]
  },
  {
   "cell_type": "code",
   "execution_count": 23,
   "id": "70823e10",
   "metadata": {},
   "outputs": [
    {
     "data": {
      "text/plain": [
       "[('2013-01-02', (['TSLA', 2.36, 2.33, -1.27], ['AMZN', 12.87, 12.8, -0.54])),\n",
       " ('2013-01-03', (['TSLA', 2.32, 2.35, 1.29], ['AMZN', 12.92, 12.86, -0.46])),\n",
       " ('2013-01-04', (['TSLA', 2.29, 2.32, 1.31], ['AMZN', 12.96, 12.88, -0.62])),\n",
       " ('2013-01-07', (['TSLA', 2.29, 2.32, 1.31], ['AMZN', 13.42, 13.15, -2.01]))]"
      ]
     },
     "execution_count": 23,
     "metadata": {},
     "output_type": "execute_result"
    }
   ],
   "source": [
    "Joined_TSLA_AMZN = RDD_TSLA.fullOuterJoin(RDD_AMZN)\n",
    "Joined_TSLA_AMZN.takeOrdered(4)"
   ]
  },
  {
   "cell_type": "markdown",
   "id": "97f8abea",
   "metadata": {},
   "source": [
    "Filtering the results to show which stock performed better each day\n"
   ]
  },
  {
   "cell_type": "code",
   "execution_count": 24,
   "id": "5ba29d34",
   "metadata": {},
   "outputs": [
    {
     "data": {
      "text/plain": [
       "[('2013-01-02', ['AMZN', 12.87, 12.8, -0.54]),\n",
       " ('2013-01-03', ['TSLA', 2.32, 2.35, 1.29]),\n",
       " ('2013-01-04', ['TSLA', 2.29, 2.32, 1.31]),\n",
       " ('2013-01-07', ['TSLA', 2.29, 2.32, 1.31]),\n",
       " ('2013-01-08', ['TSLA', 2.25, 2.3, 2.22]),\n",
       " ('2013-01-09', ['TSLA', 2.24, 2.27, 1.34]),\n",
       " ('2013-01-10', ['AMZN', 13.27, 13.43, 1.21]),\n",
       " ('2013-01-11', ['TSLA', 2.19, 2.27, 3.65]),\n",
       " ('2013-01-14', ['TSLA', 2.22, 2.21, -0.45]),\n",
       " ('2013-01-15', ['AMZN', 13.6, 13.53, -0.51])]"
      ]
     },
     "execution_count": 24,
     "metadata": {},
     "output_type": "execute_result"
    }
   ],
   "source": [
    "Best_Performing = Joined_TSLA_AMZN.mapValues(lambda n : n[0] if n[0][3] > n[1][3] else n[1])\n",
    "Best_Performing.takeOrdered(10)"
   ]
  },
  {
   "cell_type": "code",
   "execution_count": null,
   "id": "80ad00cc",
   "metadata": {},
   "outputs": [],
   "source": []
  }
 ],
 "metadata": {
  "kernelspec": {
   "display_name": "Python 3 (ipykernel)",
   "language": "python",
   "name": "python3"
  },
  "language_info": {
   "codemirror_mode": {
    "name": "ipython",
    "version": 3
   },
   "file_extension": ".py",
   "mimetype": "text/x-python",
   "name": "python",
   "nbconvert_exporter": "python",
   "pygments_lexer": "ipython3",
   "version": "3.9.13"
  },
  "nbTranslate": {
   "displayLangs": [
    "*"
   ],
   "hotkey": "alt-t",
   "langInMainMenu": true,
   "sourceLang": "en",
   "targetLang": "fr",
   "useGoogleTranslate": true
  },
  "toc": {
   "base_numbering": 1,
   "nav_menu": {},
   "number_sections": false,
   "sideBar": true,
   "skip_h1_title": true,
   "title_cell": "Table of Contents",
   "title_sidebar": "Contents",
   "toc_cell": false,
   "toc_position": {
    "height": "calc(100% - 180px)",
    "left": "10px",
    "top": "150px",
    "width": "165px"
   },
   "toc_section_display": true,
   "toc_window_display": true
  }
 },
 "nbformat": 4,
 "nbformat_minor": 5
}
